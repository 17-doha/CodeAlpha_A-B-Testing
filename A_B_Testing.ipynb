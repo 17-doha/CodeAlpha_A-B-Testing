{
  "nbformat": 4,
  "nbformat_minor": 0,
  "metadata": {
    "colab": {
      "provenance": []
    },
    "kernelspec": {
      "name": "python3",
      "display_name": "Python 3"
    },
    "language_info": {
      "name": "python"
    }
  },
  "cells": [
    {
      "cell_type": "code",
      "execution_count": null,
      "metadata": {
        "id": "NS8Pmxs5mkv7"
      },
      "outputs": [],
      "source": [
        "import random\n",
        "from scipy.stats import chi2_contingency\n"
      ]
    },
    {
      "cell_type": "code",
      "source": [
        "# Define the two versions of the product page (control and variation)\n",
        "control_page = \"\"\"\n",
        "<h1>Awesome Product</h1>\n",
        "<p>This is a great product. You should buy it!</p>\n",
        "<button>Learn More</button>\n",
        "\"\"\""
      ],
      "metadata": {
        "id": "a1-djmOOmmlP"
      },
      "execution_count": null,
      "outputs": []
    },
    {
      "cell_type": "code",
      "source": [
        "variation_page = \"\"\"\n",
        "<h1>Awesome Product</h1>\n",
        "<p>This is a great product. You should buy it!</p>\n",
        "<button>Buy Now!</button>\n",
        "\"\"\""
      ],
      "metadata": {
        "id": "mmtDgsFemvWl"
      },
      "execution_count": null,
      "outputs": []
    },
    {
      "cell_type": "code",
      "source": [
        "# Set the probability of showing the variation page\n",
        "variation_probability = 0.5  # 50% chance\n",
        "\n",
        "\n",
        "def user_visit(page):\n",
        "  if \"Buy Now!\" in page:  # Check for CTA button\n",
        "    purchase_chance = 0.2  # Higher chance to buy with CTA\n",
        "  else:\n",
        "    purchase_chance = 0.1  # Lower chance to buy without CTA\n",
        "  return random.random() < purchase_chance\n",
        "\n"
      ],
      "metadata": {
        "id": "kr9iVKlqm1Km"
      },
      "execution_count": null,
      "outputs": []
    },
    {
      "cell_type": "code",
      "source": [
        "# Run the experiment for 5000 users\n",
        "num_users = 5000\n",
        "purchases_control = 0\n",
        "purchases_variation = 0\n",
        "\n",
        "for _ in range(num_users):\n",
        "  if random.random() < variation_probability:\n",
        "    page = variation_page\n",
        "  else:\n",
        "    page = control_page\n",
        "  if user_visit(page):\n",
        "    if page == variation_page:\n",
        "      purchases_variation += 1\n",
        "    else:\n",
        "      purchases_control += 1\n",
        "\n",
        "# Calculate conversion rates\n",
        "control_rate = purchases_control / num_users\n",
        "variation_rate = purchases_variation / num_users\n",
        "\n",
        "# Print results\n",
        "print(\"Control Conversion Rate:\", control_rate)\n",
        "print(\"Variation Conversion Rate:\", variation_rate)\n"
      ],
      "metadata": {
        "colab": {
          "base_uri": "https://localhost:8080/"
        },
        "id": "pdr8njpFm3hm",
        "outputId": "4611215c-5bf0-4ef7-8f68-220778d04360"
      },
      "execution_count": null,
      "outputs": [
        {
          "output_type": "stream",
          "name": "stdout",
          "text": [
            "Control Conversion Rate: 0.0472\n",
            "Variation Conversion Rate: 0.0976\n"
          ]
        }
      ]
    },
    {
      "cell_type": "code",
      "source": [
        "\n",
        "contingency_table = [[purchases_control, num_users - purchases_control],\n",
        "                   [purchases_variation, num_users - purchases_variation]]\n",
        "chi2, pval, degrees_of_freedom, expected_table = chi2_contingency(contingency_table)\n",
        "\n",
        "# Print\n",
        "print(\"Chi-Square Statistic:\", chi2)\n",
        "print(\"p-value:\", pval)\n",
        "print(\"Degrees of Freedom:\", degrees_of_freedom)\n",
        "\n",
        "if pval < 0.05:  # Significance level\n",
        "  print(\"The difference in conversion rates is statistically significant.\")\n",
        "else:\n",
        "  print(\"The difference in conversion rates may be due to chance.\")\n"
      ],
      "metadata": {
        "colab": {
          "base_uri": "https://localhost:8080/"
        },
        "id": "DHBUhI9GnBsA",
        "outputId": "ce8c289e-0755-4f65-92f1-218460a1db39"
      },
      "execution_count": null,
      "outputs": [
        {
          "output_type": "stream",
          "name": "stdout",
          "text": [
            "Chi-Square Statistic: 93.80978417540425\n",
            "p-value: 3.4735055828996555e-22\n",
            "Degrees of Freedom: 1\n",
            "The difference in conversion rates is statistically significant.\n"
          ]
        }
      ]
    },
    {
      "cell_type": "code",
      "source": [],
      "metadata": {
        "id": "U6NnXtK9nOiW"
      },
      "execution_count": null,
      "outputs": []
    }
  ]
}